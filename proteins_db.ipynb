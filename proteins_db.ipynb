{
 "cells": [
  {
   "cell_type": "code",
   "execution_count": null,
   "id": "817ccfac",
   "metadata": {},
   "outputs": [],
   "source": [
    "import sqlite3\n",
    "import pandas\n",
    "\n",
    "conn = sqlite3.connect('proteins.db')\n",
    "\n",
    "cursor = conn.cursor()"
   ]
  },
  {
   "cell_type": "code",
   "execution_count": 22,
   "id": "0eb7513e",
   "metadata": {},
   "outputs": [],
   "source": [
    "def print_protein_info(df):\n",
    "    \"\"\"Prints the protein information from the DataFrame.\"\"\"\n",
    "    if df.empty:\n",
    "        print(\"No data found.\")\n",
    "        return\n",
    "    \n",
    "    for index, row in df.iterrows():\n",
    "        print(f\"Name: {row['name']}\")\n",
    "        print(f\"Accession: {row['accession']}\")\n",
    "        print(f\"Function: {row['function']}\")\n",
    "        print(f\"Domains: {row['domains']}\")\n",
    "        print(f\"CRISPR Score: {row['crispr_score']}\")\n",
    "        print(f\"References: {row['reference']}\")\n",
    "        print(\"--------------------------------------------------\\n\")"
   ]
  },
  {
   "cell_type": "code",
   "execution_count": 25,
   "id": "14508d5b",
   "metadata": {},
   "outputs": [
    {
     "name": "stdout",
     "output_type": "stream",
     "text": [
      "Name: GRA17\n",
      "Accession: TGME49_222170\n",
      "Function: Required for PVM permeability and host nutrient access. Located at the PVM; Regulates bradyzoite viability\n",
      "Domains: no signal peptide or transmembrane domain\n",
      "CRISPR Score: -2.93\n",
      "References: (Gold et al. 2015); (Paredes-Santos et al., 2019)\n",
      "--------------------------------------------------\n",
      "\n"
     ]
    },
    {
     "data": {
      "text/html": [
       "<div>\n",
       "<style scoped>\n",
       "    .dataframe tbody tr th:only-of-type {\n",
       "        vertical-align: middle;\n",
       "    }\n",
       "\n",
       "    .dataframe tbody tr th {\n",
       "        vertical-align: top;\n",
       "    }\n",
       "\n",
       "    .dataframe thead th {\n",
       "        text-align: right;\n",
       "    }\n",
       "</style>\n",
       "<table border=\"1\" class=\"dataframe\">\n",
       "  <thead>\n",
       "    <tr style=\"text-align: right;\">\n",
       "      <th></th>\n",
       "      <th>id</th>\n",
       "      <th>name</th>\n",
       "      <th>accession</th>\n",
       "      <th>function</th>\n",
       "      <th>domains</th>\n",
       "      <th>crispr_score</th>\n",
       "      <th>reference</th>\n",
       "    </tr>\n",
       "  </thead>\n",
       "  <tbody>\n",
       "    <tr>\n",
       "      <th>0</th>\n",
       "      <td>27</td>\n",
       "      <td>GRA17</td>\n",
       "      <td>TGME49_222170</td>\n",
       "      <td>Required for PVM permeability and host nutrien...</td>\n",
       "      <td>no signal peptide or transmembrane domain</td>\n",
       "      <td>-2.93</td>\n",
       "      <td>(Gold et al. 2015); (Paredes-Santos et al., 2019)</td>\n",
       "    </tr>\n",
       "  </tbody>\n",
       "</table>\n",
       "</div>"
      ],
      "text/plain": [
       "   id   name      accession  \\\n",
       "0  27  GRA17  TGME49_222170   \n",
       "\n",
       "                                            function  \\\n",
       "0  Required for PVM permeability and host nutrien...   \n",
       "\n",
       "                                     domains  crispr_score  \\\n",
       "0  no signal peptide or transmembrane domain         -2.93   \n",
       "\n",
       "                                           reference  \n",
       "0  (Gold et al. 2015); (Paredes-Santos et al., 2019)  "
      ]
     },
     "execution_count": 25,
     "metadata": {},
     "output_type": "execute_result"
    }
   ],
   "source": [
    "query = \"SELECT * FROM proteins WHERE accession = 'TGME49_222170';\"\n",
    "df = pandas.read_sql_query(query, conn)\n",
    "df.sort_values(by=\"name\", inplace=True)\n",
    "print_protein_info(df)\n",
    "df"
   ]
  }
 ],
 "metadata": {
  "kernelspec": {
   "display_name": "sql",
   "language": "python",
   "name": "python3"
  },
  "language_info": {
   "codemirror_mode": {
    "name": "ipython",
    "version": 3
   },
   "file_extension": ".py",
   "mimetype": "text/x-python",
   "name": "python",
   "nbconvert_exporter": "python",
   "pygments_lexer": "ipython3",
   "version": "3.13.3"
  }
 },
 "nbformat": 4,
 "nbformat_minor": 5
}
